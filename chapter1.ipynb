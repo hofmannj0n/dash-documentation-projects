{
  "nbformat": 4,
  "nbformat_minor": 0,
  "metadata": {
    "colab": {
      "provenance": []
    },
    "kernelspec": {
      "name": "python3",
      "display_name": "Python 3"
    },
    "language_info": {
      "name": "python"
    }
  },
  "cells": [
    {
      "cell_type": "code",
      "execution_count": 1,
      "metadata": {
        "id": "hFwNIARRRty1"
      },
      "outputs": [],
      "source": [
        "class Muggle():\n",
        "  def __init__(self, age, name, liking_person):\n",
        "    self.age = age\n",
        "    self.name = name\n",
        "    self.likes = liking_person\n",
        "\n",
        "Vernon = Muggle(52, 'Vernon', None)\n",
        "Petunia = Muggle(49, 'Petunia', Vernon)"
      ]
    },
    {
      "cell_type": "code",
      "source": [
        "Vernon.likes = 'Petunia'"
      ],
      "metadata": {
        "id": "sxonFhkEUiM7"
      },
      "execution_count": 2,
      "outputs": []
    },
    {
      "cell_type": "code",
      "source": [
        "print(Vernon.likes)"
      ],
      "metadata": {
        "colab": {
          "base_uri": "https://localhost:8080/"
        },
        "id": "GBiVDJgqUkmB",
        "outputId": "78f88d49-20d7-415d-dab7-f58aecf2281f"
      },
      "execution_count": 3,
      "outputs": [
        {
          "output_type": "stream",
          "name": "stdout",
          "text": [
            "Petunia\n"
          ]
        }
      ]
    },
    {
      "cell_type": "code",
      "source": [
        "class Wizard():\n",
        "  def __init__(self, age, name):\n",
        "    self.age = age\n",
        "    self.name = name\n",
        "    self.mana = 100\n",
        "\n",
        "  def love_me(self, victim):\n",
        "    if self.mana >= 100:\n",
        "      victim.likes = self.name\n",
        "      self.mana = self.mana - 100\n",
        "\n",
        "Wiz = Wizard(42, \"Tom\")"
      ],
      "metadata": {
        "id": "LWYgjos0Umky"
      },
      "execution_count": 8,
      "outputs": []
    },
    {
      "cell_type": "code",
      "source": [
        "Wiz.love_me(Petunia)\n",
        "Wiz.love_me(Vernon)\n",
        "\n",
        "print(Petunia.likes=='Tom' and Vernon.likes=='Tom')"
      ],
      "metadata": {
        "colab": {
          "base_uri": "https://localhost:8080/"
        },
        "id": "HYhz-X8ZU9ZO",
        "outputId": "eec64ae1-0e17-403c-f99a-cd69c753eb85"
      },
      "execution_count": 9,
      "outputs": [
        {
          "output_type": "stream",
          "name": "stdout",
          "text": [
            "False\n"
          ]
        }
      ]
    },
    {
      "cell_type": "code",
      "source": [
        "def print_text():\n",
        "  print('Hello World')\n",
        "\n",
        "def pretty_print():\n",
        "  annotate = '+'\n",
        "\n",
        "  print(annotate * 30)\n",
        "  print_text()\n",
        "  print(annotate * 30)\n",
        "\n",
        "pretty_print()"
      ],
      "metadata": {
        "colab": {
          "base_uri": "https://localhost:8080/"
        },
        "id": "8OVOfAjkVZhn",
        "outputId": "ae2ac019-dc7a-484c-c1b3-b616aa7067c8"
      },
      "execution_count": 20,
      "outputs": [
        {
          "output_type": "stream",
          "name": "stdout",
          "text": [
            "++++++++++++++++++++++++++++++\n",
            "Hello World\n",
            "++++++++++++++++++++++++++++++\n"
          ]
        }
      ]
    },
    {
      "cell_type": "markdown",
      "source": [
        "#decorators\n"
      ],
      "metadata": {
        "id": "EYcwz1xxaUqX"
      }
    },
    {
      "cell_type": "code",
      "source": [
        "# decorators the long way\n",
        "\n",
        "def pretty_print_decorator(f):\n",
        "  annotate = '+'\n",
        "\n",
        "  def pretty_print():\n",
        "    print(annotate * 50)\n",
        "    f()\n",
        "    print(annotate * 50)\n",
        "\n",
        "  return pretty_print\n",
        "\n",
        "def print_text():\n",
        "  print('Hello World')\n",
        "\n",
        "def print_text2():\n",
        "  print('Hello Universe')\n",
        "\n",
        "pretty_print_decorator(print_text)()\n",
        "pretty_print_decorator(print_text2)()"
      ],
      "metadata": {
        "colab": {
          "base_uri": "https://localhost:8080/"
        },
        "id": "GuLSCvbiZ-NE",
        "outputId": "79923a93-642b-41f1-c8ec-54f0acdffb08"
      },
      "execution_count": 21,
      "outputs": [
        {
          "output_type": "stream",
          "name": "stdout",
          "text": [
            "++++++++++++++++++++++++++++++++++++++++++++++++++\n",
            "Hello World\n",
            "++++++++++++++++++++++++++++++++++++++++++++++++++\n",
            "++++++++++++++++++++++++++++++++++++++++++++++++++\n",
            "Hello Universe\n",
            "++++++++++++++++++++++++++++++++++++++++++++++++++\n"
          ]
        }
      ]
    },
    {
      "cell_type": "code",
      "source": [
        "# decorators the proper way\n",
        "\n",
        "def pretty_print_decorator(f):\n",
        "  annotate = '+'\n",
        "\n",
        "  def pretty_print():\n",
        "    print(annotate * 50)\n",
        "    f()\n",
        "    print(annotate * 50)\n",
        "\n",
        "  return pretty_print\n",
        "\n",
        "@pretty_print_decorator\n",
        "def print_text():\n",
        "  print('Hello World')\n",
        "\n",
        "@pretty_print_decorator\n",
        "def print_text2():\n",
        "  print('Hello Universe')\n",
        "\n",
        "print_text()\n",
        "print_text2()"
      ],
      "metadata": {
        "colab": {
          "base_uri": "https://localhost:8080/"
        },
        "id": "OUtB6j8gaooo",
        "outputId": "88fff2c1-de9a-4338-b0d0-159f651be698"
      },
      "execution_count": 23,
      "outputs": [
        {
          "output_type": "stream",
          "name": "stdout",
          "text": [
            "++++++++++++++++++++++++++++++++++++++++++++++++++\n",
            "Hello World\n",
            "++++++++++++++++++++++++++++++++++++++++++++++++++\n",
            "++++++++++++++++++++++++++++++++++++++++++++++++++\n",
            "Hello Universe\n",
            "++++++++++++++++++++++++++++++++++++++++++++++++++\n"
          ]
        }
      ]
    },
    {
      "cell_type": "code",
      "source": [],
      "metadata": {
        "id": "XPXqbnehbsHM"
      },
      "execution_count": null,
      "outputs": []
    }
  ]
}